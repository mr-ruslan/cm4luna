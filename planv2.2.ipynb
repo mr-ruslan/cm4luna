{
 "cells": [
  {
   "cell_type": "code",
   "execution_count": 2,
   "metadata": {},
   "outputs": [],
   "source": [
    "import copy\n",
    "import itertools"
   ]
  },
  {
   "cell_type": "code",
   "execution_count": 3,
   "metadata": {},
   "outputs": [],
   "source": [
    "def gcd(a, b):\n",
    "    if b == 0:\n",
    "        return a\n",
    "    else:\n",
    "        return gcd(b, a % b)\n",
    "    \n",
    "def lcm(a, b):\n",
    "    return a * b // gcd(a, b)"
   ]
  },
  {
   "cell_type": "code",
   "execution_count": 4,
   "metadata": {},
   "outputs": [],
   "source": [
    "def egcd(a, b):\n",
    "    if 0 == b:\n",
    "        return 1, 0, a\n",
    "    x, y, q = egcd(b, a % b)\n",
    "    x, y = y, (x - a // b * y)\n",
    "    return x, y, q\n",
    " \n",
    " \n",
    "def custom_chinese_remainder(a,b):\n",
    "    nod = gcd(a[0],b[0])\n",
    "    nok = lcm(a[0],b[0])\n",
    "    a0,b0 = (a[0] // nod, b[0]) if a[0] <= b[0] else (a[0], b[0] // nod)\n",
    "    m1, m2 = nok//a0, nok//b0\n",
    "    m1i, m2i = egcd(m1, a0)[0], egcd(m2, b0)[0] \n",
    "    x = m1 * m1i * a[1] + m2 * m2i * b[1]\n",
    "    x %= nok\n",
    "    return (nok, max(a[1],b[1]) + (x - max(a[1],b[1]) % nok) % nok)\n",
    "\n",
    "def apply_chinese_remainder(a,b):\n",
    "    shift = (a[1]-b[1]) // a[0]\n",
    "    r = (a[1]-b[1]) % a[0]\n",
    "    nok, first = custom_chinese_remainder((a[0],r),(b[0],0))\n",
    "    return (nok//a[0], (first - r) // a[0] - shift)"
   ]
  },
  {
   "cell_type": "code",
   "execution_count": 5,
   "metadata": {},
   "outputs": [],
   "source": [
    "class VariablesSet:\n",
    "    def __init__(self, items=[]):\n",
    "        self.s = set()\n",
    "        self.m = dict()\n",
    "        for i in items:\n",
    "            self.addItem(i)\n",
    "\n",
    "    def addItem(self, value):\n",
    "        #print(f'adding {value}')\n",
    "        if isinstance(value, tuple) and len(value)==2 and isinstance(value[1], tuple) and isinstance(value[0], str):\n",
    "            vn = value[0]\n",
    "            va = value[1][0]\n",
    "            vb = value[1][1]\n",
    "            if vn not in self.m:\n",
    "                self.m[vn] = dict()\n",
    "            if va == 0:\n",
    "                \n",
    "                for a,bb in self.m[vn].items():\n",
    "                    if a == 0:\n",
    "                        continue\n",
    "                    else:\n",
    "                        for b in bb:\n",
    "                            if vb>=b and ((vb - b) % a == 0):\n",
    "                                return\n",
    "                            if vb == b-a:\n",
    "                                newBorder = b-a\n",
    "                                while 0 in self.m[vn] and (newBorder-a) in self.m[vn][0]:\n",
    "                                    newBorder-=a\n",
    "                                    self.removeItem((vn,(0,newBorder)))\n",
    "                                self.m[vn][a].remove(b)\n",
    "                                self.m[vn][a].add(newBorder)\n",
    "                                return\n",
    "                    \n",
    "                if 0 not in self.m[vn]:\n",
    "                    self.m[vn][0] = set()\n",
    "                self.m[vn][0].add(vb)\n",
    "            else:\n",
    "                for a,bb in self.m[vn].items():\n",
    "                    if a == 0:\n",
    "                        continue\n",
    "                    else:\n",
    "                        nok = lcm(a, va)\n",
    "                        nod = gcd(a, va)\n",
    "                        for b in list(bb):\n",
    "                            if (vb - b) % nod == 0:\n",
    "                                if nod == va:\n",
    "                                    bb.remove(b)\n",
    "                                    if len(bb) == 0:\n",
    "                                        del self.m[vn][a]\n",
    "                                    self.addItem((vn,(va,vb)))\n",
    "                                    for i in range(b,vb,a):\n",
    "                                        self.addItem((vn,(0,i)))\n",
    "                                    return\n",
    "                                if nok == va:\n",
    "                                    for i in range(vb,b,va):\n",
    "                                        self.addItem((vn,(0,i)))\n",
    "                                else:\n",
    "                                    for i in range(0,nok//va):\n",
    "                                        self.addItem((vn,(nok,vb+va*i)))\n",
    "                                return\n",
    "                # тут уже точно нет пересечений\n",
    "                if vn in self.m and 0 in self.m[vn]:\n",
    "                    for b in list(self.m[vn][0]):\n",
    "                        if b>= vb and (b - vb) % va == 0:\n",
    "                            self.removeItemInternal((vn,(0,b)))\n",
    "                while vn in self.m and 0 in self.m[vn] and (vb-va) in self.m[vn][0]:\n",
    "                    vb-=va\n",
    "                    self.removeItemInternal((vn,(0,vb)))\n",
    "                if va not in self.m[vn]:\n",
    "                    self.m[vn][va] = set()\n",
    "                self.m[vn][va].add(vb)\n",
    "\n",
    "                c = dict()\n",
    "                for b in self.m[vn][va]:\n",
    "                    s = ((vb - b) % va + va) % va\n",
    "                    if s != 0 and va % s == 0:\n",
    "                        if s not in c:\n",
    "                            c[s]=1\n",
    "                        c[s]+=1\n",
    "                for k,v in c.items():\n",
    "                    if va % k == 0 and va // k == v:\n",
    "                        newb = max([b for b in self.m[vn][va] if (vb - b) % va == 0 or va % ((vb - b) % va) == 0])\n",
    "                        for b in list(self.m[vn][va]):\n",
    "                            s = (vb - b) % va\n",
    "                            if s == 0 or va % s == 0:\n",
    "                                self.m[vn][va].remove(b)\n",
    "                                if len(self.m[vn][va]) == 0:\n",
    "                                    del self.m[vn][va]\n",
    "                                for i in range(b,newb,va):\n",
    "                                    self.addItem((vn,(0,i)))\n",
    "                        self.add((vn,(k, newb)))\n",
    "                    \n",
    "\n",
    "\n",
    "        elif isinstance(value, str):\n",
    "            self.s.add(value)\n",
    "        else:\n",
    "            print(f'invalid Variable {value} in VariablesSet addItem')\n",
    "\n",
    "\n",
    "    def removeItem(self, value):\n",
    "        self.removeItemInternal(value)\n",
    "        if isinstance(value, tuple) and value[0] in self.m and len(self.m[value[0]].keys())==0:\n",
    "            del self.m[value[0]]\n",
    "\n",
    "    def removeItemInternal(self, value):\n",
    "        #print(f'removing {value}')\n",
    "        if isinstance(value, tuple) and len(value)==2 and isinstance(value[1], tuple) and isinstance(value[0], str):\n",
    "            vn = value[0]\n",
    "            va = value[1][0]\n",
    "            vb = value[1][1]\n",
    "            if vn not in self.m:\n",
    "                return\n",
    "            if va == 0:\n",
    "                for a,bb in self.m[vn].items():\n",
    "                    if a == 0:\n",
    "                        continue\n",
    "                    else:\n",
    "                        for b in bb:\n",
    "                            if vb>=b and ((vb - b) % a == 0):\n",
    "                                self.m[vn][a].remove(b)\n",
    "                                self.m[vn][a].add(vb+a)\n",
    "                                for i in range(b,vb,a):\n",
    "                                    self.addItem((vn,(0,i)))\n",
    "                                return\n",
    "                if 0 in self.m[vn]:\n",
    "                    self.m[vn][0].discard(vb)\n",
    "                    if len(self.m[vn][0]) == 0:\n",
    "                        del self.m[vn][0]\n",
    "            else:\n",
    "                if 0 in self.m[vn]:\n",
    "                    newbb = set()\n",
    "                    for b in self.m[vn][0]:\n",
    "                        if b<vb or (b-vb) % va != 0:\n",
    "                            newbb.add(b)\n",
    "                    if len(newbb) == 0:\n",
    "                        del self.m[vn][0]\n",
    "                    else:\n",
    "                        self.m[vn][0] = newbb\n",
    "                for a,bb in self.m[vn].copy().items():\n",
    "                    if a == 0:\n",
    "                        continue\n",
    "                    else:\n",
    "                        nok = lcm(a, va)\n",
    "                        nod = gcd(a, va)\n",
    "                        for b in list(bb):\n",
    "                            if (vb - b) % nod == 0:\n",
    "                                if nod == va:\n",
    "                                    bb.remove(b)\n",
    "                                    if len(bb) == 0:\n",
    "                                        del self.m[vn][a]\n",
    "                                    for i in range(b,vb,a):\n",
    "                                        self.addItem((vn,(0,i)))\n",
    "                                    continue\n",
    "                                if nok == va:\n",
    "                                    self.m[vn][a].remove(b)\n",
    "                                    if len(self.m[vn][a]) == 0:\n",
    "                                        del self.m[vn][a]\n",
    "                                    for i in range(b,b+va,a):\n",
    "                                        if (vb-i) % va != 0:\n",
    "                                            self.addItem((vn,(va,i)))\n",
    "                                    for i in range(vb-va,b,-va):\n",
    "                                        self.addItem((vn,(0,i)))\n",
    "                                else:\n",
    "                                    for i in range(0,nok//va):\n",
    "                                        self.removeItemInternal((vn,(nok,vb+va*i)))\n",
    "                                continue\n",
    "        elif isinstance(value, str):\n",
    "            self.s.discard(value)\n",
    "        else:\n",
    "            print(f'invalid Variable {value} in VariablesSet removeItem')\n",
    "\n",
    "\n",
    "    def add(self, values):\n",
    "        vlist = values\n",
    "        if not isinstance(values,list):\n",
    "            vlist = [values]\n",
    "        for v in vlist:\n",
    "            self.addItem(v)\n",
    "\n",
    "    def update(self, vset):\n",
    "        self.s.update(vset.s)\n",
    "        for k,v in vset.m.items():\n",
    "            for a,bb in v.items():\n",
    "                for b in bb:\n",
    "                    self.addItem((k, (a,b)))\n",
    "\n",
    "    def intersection(self, vset):\n",
    "        result = VariablesSet()\n",
    "        result.s = self.s.intersection(vset.s)\n",
    "        for k,v in self.m.items():\n",
    "            if k not in vset.m:\n",
    "                continue\n",
    "            for a,bb in v.items():\n",
    "                if a==0:\n",
    "                    for va,vbb in vset.m[k].items():\n",
    "                        if va==0:\n",
    "                            result.add([(k,(0,b)) for b in bb.intersection(vbb)])\n",
    "                        else:\n",
    "                            for vb in vbb:\n",
    "                                result.add([(k,(0,b)) for b in bb if b >= vb and (b-vb) % va == 0])\n",
    "                else:\n",
    "                    for b in bb:\n",
    "                        for va,vbb in vset.m[k].items():\n",
    "                            if va==0:\n",
    "                                result.add([(k,(0,vb)) for vb in vbb if vb >= b and (b-vb) % a == 0])\n",
    "                            else:\n",
    "                                for vb in vbb:\n",
    "                                    d = gcd(a,va)\n",
    "                                    if (vb - b) % d == 0:\n",
    "                                        result.add((k, custom_chinese_remainder((a,b),(va,vb))))\n",
    "        return result\n",
    "\n",
    "\n",
    "    def intersection_update(self, vset):\n",
    "        res = self.intersection(vset)\n",
    "        self.s = res.s\n",
    "        self.m = res.m\n",
    "        #TODO self = self.intersection(vset)?\n",
    "\n",
    "\n",
    "    \n",
    "    def difference_update(self, vset):\n",
    "        self.s.difference_update(vset.s)\n",
    "        for k,v in vset.m.items():\n",
    "            for a,bb in v.items():\n",
    "                for b in bb:\n",
    "                    self.removeItem((k, (a,b)))\n",
    "\n",
    "    def difference(self, vset):\n",
    "         result = copy.deepcopy(self)\n",
    "         result.difference_update(vset)\n",
    "         return result\n",
    "\n",
    "    def empty(self):\n",
    "        if self.s or self.m:\n",
    "            return False\n",
    "        else:\n",
    "            return True\n",
    "\n",
    "    def clear(self):\n",
    "        self.s.clear()\n",
    "        self.m.clear()\n",
    "\n",
    "\n",
    "    def isinValue(self, value):\n",
    "        #print(f'isin {value}')\n",
    "        if isinstance(value, tuple) and len(value)==2 and isinstance(value[1], tuple) and isinstance(value[0], str):\n",
    "            vn = value[0]\n",
    "            va = value[1][0]\n",
    "            vb = value[1][1]\n",
    "            if vn in self.m:\n",
    "                if va == 0:\n",
    "                    for a,bb in self.m[vn].items():\n",
    "                        if a == 0:\n",
    "                            if vb in bb:\n",
    "                                return True\n",
    "                        else:\n",
    "                            for b in bb:\n",
    "                                if vb >= b and (vb-b) % a == 0:\n",
    "                                    return True\n",
    "                else:\n",
    "                    for a,bb in self.m[vn].items():\n",
    "                        if a == 0 and vb in bb:\n",
    "                            infb = vb + va\n",
    "                            while infb in bb:\n",
    "                                infb += va\n",
    "                            return self.isinValue((vn,(va,infb)))\n",
    "                        nok = lcm(a, va)\n",
    "                        nod = gcd(a, va)\n",
    "                        for b in bb:\n",
    "                            if vb>=b and (vb - b) % nod == 0:\n",
    "                                if nok == va:\n",
    "                                    return True\n",
    "            return False\n",
    "        elif isinstance(value, str):\n",
    "            if value not in self.s:\n",
    "                return False\n",
    "            return True\n",
    "        else:\n",
    "            return False\n",
    "\n",
    "    def isin(self, values):\n",
    "        vlist = values\n",
    "        if not isinstance(values,list):\n",
    "            vlist = [values]\n",
    "        for value in vlist:\n",
    "            if not self.isinValue(value):\n",
    "                return False\n",
    "        return True\n",
    "            \n",
    "    def isinVS(self, vset):\n",
    "        for value in vset:\n",
    "            if not self.isinValue(value):\n",
    "                return False\n",
    "        return True\n",
    "    \n",
    "    def expand(self, step=1):\n",
    "        for k in self.m:\n",
    "            if 0 in self.m[k]:\n",
    "                self.addItem((k,(step, min(self.m[k][0]))))\n",
    "\n",
    "\n",
    "    def names(self):\n",
    "        yield from self.s\n",
    "        for k in self.m:\n",
    "            yield k\n",
    "\n",
    "    def __iter__(self):\n",
    "        yield from self.s\n",
    "        \n",
    "        for k, v in self.m.items():\n",
    "            for a,bb in v.items():\n",
    "                for b in bb:\n",
    "                    yield (k, (a,b))\n",
    "\n",
    "\n",
    "\n",
    "    def __repr__(self):\n",
    "        return '{' + ', '.join(\n",
    "                            sorted(self.s)\n",
    "                            + [ ', '.join([ k + '[' +','.join([str(b) for b in sorted(bb)])+ ']' if a==0 else ', '.join([k + '['+('' if a == 1 else str(a))+'i+'+str(b)+']' for b in sorted(bb)]) for a,bb in v.items()])\n",
    "                            for k,v in self.m.items()\n",
    "                            ]\n",
    "                        ) + '}'\n",
    "    def __str__(self):\n",
    "        return '{' + ', '.join(\n",
    "                            sorted(self.s)\n",
    "                            + [ ', '.join([ k + '[' +','.join([str(b) for b in sorted(bb)])+ ']' if a==0 else ', '.join([k + '['+('' if a == 1 else str(a))+'i+'+str(b)+']' for b in sorted(bb)]) for a,bb in v.items()])\n",
    "                            for k,v in self.m.items()\n",
    "                            ]\n",
    "                        ) + '}'"
   ]
  },
  {
   "cell_type": "code",
   "execution_count": 6,
   "metadata": {},
   "outputs": [],
   "source": [
    "class SOperation:\n",
    "    def __init__(self, label:str, ins:list, outs:list, psi = None):\n",
    "        self.label = label\n",
    "        self.ins = ins\n",
    "        self.outs = outs\n",
    "        self.psi = psi\n",
    "\n",
    "    def __repr__(self):\n",
    "        return self.label + ('(psi: ' + str(self.psi) + ')' if self.psi is not None else '') +'(ins:'+ str(self.ins) + ', outs:' + str(self.outs)  + ')'\n",
    "    def __str__(self):\n",
    "        return self.label + ('(psi: ' + str(self.psi) + ')' if self.psi is not None else '') +'(ins:'+ str(self.ins) + ', outs:' + str(self.outs)  + ')'"
   ]
  },
  {
   "cell_type": "code",
   "execution_count": 7,
   "metadata": {},
   "outputs": [],
   "source": [
    "class MOperation:\n",
    "    def __init__(self, label:str, ins:list, outs:list, scope:VariablesSet):\n",
    "        self.label = label\n",
    "        self.ins = ins\n",
    "        self.outs = outs\n",
    "        self.scope = scope\n",
    "        \n",
    "    def __repr__(self):\n",
    "        return self.label + '['+str(self.scope)+']' +'(ins:'+ str(self.ins) + ', outs:' + str(self.outs)  + ')'\n",
    "    def __str__(self):\n",
    "        return self.label + '['+str(self.scope)+']' +'(ins:'+ str(self.ins) + ', outs:' + str(self.outs)  + ')'"
   ]
  },
  {
   "cell_type": "code",
   "execution_count": 8,
   "metadata": {},
   "outputs": [],
   "source": [
    "class SVariable:\n",
    "    def __init__(self, label, entry, comp):\n",
    "        self.label = label\n",
    "        self.entry = entry\n",
    "        self.comp = comp\n",
    "    def __repr__(self):\n",
    "        return self.label + '(entry:'+ str(self.entry) + ', comp:' + str(self.comp)  + ')'\n",
    "    def __str__(self):\n",
    "        return self.label + '(entry:'+ str(self.entry) + ', comp:' + str(self.comp)  + ')'"
   ]
  },
  {
   "cell_type": "code",
   "execution_count": 9,
   "metadata": {},
   "outputs": [],
   "source": [
    "class MVariable:\n",
    "    def __init__(self, label, entry, comp):\n",
    "        self.label = label\n",
    "        self.entry = entry\n",
    "        self.comp = comp\n",
    "    def __repr__(self):\n",
    "        return self.label + '(entry:'+ str(self.entry) + ', comp:' + str(self.comp)  + ')'\n",
    "    def __str__(self):\n",
    "        return self.label + '(entry:'+ str(self.entry) + ', comp:' + str(self.comp)  + ')'"
   ]
  },
  {
   "cell_type": "code",
   "execution_count": 10,
   "metadata": {},
   "outputs": [],
   "source": [
    "class Model:\n",
    "    def __init__(self, v=dict(), o=dict()):\n",
    "        self.v = v\n",
    "        self.o = o\n",
    "    def __repr__(self):\n",
    "        return str(self.v) +'\\n'+ str(self.o)\n",
    "    def __str__(self):\n",
    "        return str(self.v) +'\\n'+ str(self.o)"
   ]
  },
  {
   "cell_type": "code",
   "execution_count": 11,
   "metadata": {},
   "outputs": [],
   "source": [
    "class Term:\n",
    "    def __init__(self, top):\n",
    "        self.top = top\n",
    "        self.ins = list()\n",
    "\n",
    "    def __repr__(self):\n",
    "        return self.top[0] + '['+str(self.top[1])+']' + '(' + ', '.join([ str(x) if isinstance(x,Term) else x[0]+'['+str(x[1])+']' for x in self.ins]) + ')'\n",
    "    def __str__(self):\n",
    "        return self.top[0] + '['+str(self.top[1])+']' + '(' + ', '.join([ str(x) if isinstance(x,Term) else x[0]+'['+str(x[1])+']' for x in self.ins]) + ')'\n",
    "    \n",
    "    "
   ]
  },
  {
   "cell_type": "code",
   "execution_count": 12,
   "metadata": {},
   "outputs": [],
   "source": [
    "def termIns(term, i = 0):\n",
    "    if isinstance(term, Term):\n",
    "        vars = VariablesSet()\n",
    "        for t in term.ins:\n",
    "            tvars = termIns(t, i)\n",
    "            vars.update(tvars)\n",
    "        return vars\n",
    "    else:\n",
    "        if isinstance(term, tuple) and i>=0:\n",
    "            return VariablesSet([(term[0],(0,term[1][0]*i+term[1][1]))])\n",
    "        else:\n",
    "            return VariablesSet([term])"
   ]
  },
  {
   "cell_type": "code",
   "execution_count": 13,
   "metadata": {},
   "outputs": [],
   "source": [
    "def termVars(term, model:Model, i = 0):\n",
    "    if isinstance(term, Term):\n",
    "        vars = VariablesSet()\n",
    "\n",
    "        for ov in model.o[term.top[0]].outs:\n",
    "            if not isinstance(ov,tuple):\n",
    "                vars.addItem(ov)\n",
    "            else:\n",
    "                if i < 0:\n",
    "                    vars.addItem((ov[0],(term.top[1][0]*ov[1][0],ov[1][0]*term.top[1][1]+ov[1][1])))\n",
    "                else:\n",
    "                    vars.addItem((ov[0],(0,ov[1][0]*(term.top[1][0]*i + term.top[1][1])+ov[1][1])))\n",
    "        for t in term.ins:\n",
    "            tvars = termVars(t, model, i)\n",
    "            vars.update(tvars)\n",
    "        return vars\n",
    "    else:\n",
    "        if isinstance(term, tuple) and i>=0:\n",
    "            return VariablesSet([(term[0],(0,term[1][0]*i+term[1][1]))])\n",
    "        else:\n",
    "            return VariablesSet([term])"
   ]
  },
  {
   "cell_type": "code",
   "execution_count": 14,
   "metadata": {},
   "outputs": [],
   "source": [
    "def termOutput(term, model, i = 0):\n",
    "    if isinstance(term, Term):\n",
    "        vars = VariablesSet()\n",
    "        for ov in model.o[term.top[0]].outs:\n",
    "            if not isinstance(ov,tuple):\n",
    "                vars.addItem(ov)\n",
    "            else:\n",
    "                if i < 0:\n",
    "                    vars.addItem((ov[0],(term.top[1][0]*ov[1][0],ov[1][0]*term.top[1][1]+ov[1][1])))\n",
    "                else:\n",
    "                    vars.addItem((ov[0],(0,ov[1][0]*(term.top[1][0]*i + term.top[1][1])+ov[1][1])))\n",
    "        for t in term.ins:\n",
    "            tvars = termOutput(t, model, i)\n",
    "            vars.update(tvars)\n",
    "        return vars\n",
    "    else:\n",
    "        return VariablesSet()"
   ]
  },
  {
   "cell_type": "code",
   "execution_count": 15,
   "metadata": {},
   "outputs": [],
   "source": [
    "def buildIdenticalTerms(top1, top2, model:Model, L:dict[str,list[tuple[int,int]]], signify1=dict(), signify2=dict()):\n",
    "    opl = top1[0]\n",
    "    i1, i2 = top1[1][1], top2[1][1]\n",
    "    shift = abs(i1-i2)\n",
    "    if opl != top2[0] or shift == 0:\n",
    "        return []\n",
    "    l1, l2 = top1[1][0], top2[1][0]\n",
    "    res = []\n",
    "    print(f'building terms for {opl}: {l1},{i1} and {l2},{i2}')\n",
    "    if l1>=l2:\n",
    "        terms = []\n",
    "        for var, iv in enumerate(model.o[opl].ins):\n",
    "            terms.append([])\n",
    "            if not isinstance(iv, tuple):\n",
    "                terms[var].append((iv,iv))\n",
    "                continue\n",
    "            ivl = iv[0]\n",
    "            if iv[1][0] == 0:\n",
    "                terms[var].append((iv,iv))\n",
    "                continue\n",
    "            else:\n",
    "                ivi1 = iv[1][0]*i1 + iv[1][1]\n",
    "                ivi2 = iv[1][0]*i2 + iv[1][1]\n",
    "                found = False\n",
    "                for fl in model.v[ivl].comp:\n",
    "                    if fl not in L:\n",
    "                        continue\n",
    "                    ls = sorted(L[fl], key=lambda x:{ x[0] })\n",
    "                    for f1 in ls:\n",
    "                        for f2 in ls:\n",
    "                            if f1[1]==f2[1]:\n",
    "                                continue\n",
    "                            if f2[0]>f1[0]:\n",
    "                                break\n",
    "                            if fl in signify1 and (f1[1],iv) in signify1[fl]:\n",
    "                                continue\n",
    "                            if fl in signify2 and (f2[1],iv) in signify2[fl]:\n",
    "                                continue\n",
    "                            \n",
    "                            canBeApplyed1, canBeApplyed2 = False, False\n",
    "                            for ov in model.o[fl].outs:\n",
    "                                if (ov[1][0]*f1[1] + ov[1][1]) == ivi1:\n",
    "                                    canBeApplyed1 = True\n",
    "                                if (ov[1][0]*f2[1] + ov[1][1]) == ivi2:\n",
    "                                    canBeApplyed2 = True\n",
    "                            if not (canBeApplyed1 and canBeApplyed2):\n",
    "                                continue\n",
    "\n",
    "                            if fl not in signify1:\n",
    "                                signify1[fl] = set()\n",
    "                            if fl not in signify2:\n",
    "                                signify2[fl] = set()\n",
    "                            signify1[fl].add((f1[1],iv))\n",
    "                            signify2[fl].add((f2[1],iv))\n",
    "                            varinterms = buildIdenticalTerms((fl,f1), (fl,f2), model, L)\n",
    "                            terms[var]+=varinterms\n",
    "                            signify1[fl].remove((f1[1],iv))\n",
    "                            signify2[fl].remove((f2[1],iv))\n",
    "                            if len(varinterms):\n",
    "                                found = True\n",
    "                if not found:\n",
    "                    divi = abs(ivi1-ivi2)\n",
    "                    terms[var].append(((ivl,(divi,ivi1)),(ivl,(divi,ivi2))))\n",
    "        combinations = list(itertools.product(*terms))\n",
    "        for comb in combinations:\n",
    "            t1 = Term((opl,(shift,i1)))\n",
    "            t2 = Term((opl,(shift,i2)))\n",
    "            t1.ins = [c[0] for c in comb]\n",
    "            t2.ins = [c[1] for c in comb]\n",
    "            res.append((t1,t2))\n",
    "            #print(f'res.append by {(t1,t2)}')\n",
    "    if l1<=l2:\n",
    "        terms = []\n",
    "        for var, iv in enumerate(model.o[opl].ins):\n",
    "            terms.append([])\n",
    "            if not isinstance(iv, tuple):\n",
    "                terms[var].append((iv,iv))\n",
    "                continue\n",
    "            ivl = iv[0]\n",
    "            if iv[1][0] == 0:\n",
    "                terms[var].append((iv,iv))\n",
    "                continue\n",
    "            else:\n",
    "                ivi1 = iv[1][0]*i1 + iv[1][1]\n",
    "                ivi2 = iv[1][0]*i2 + iv[1][1]\n",
    "                found = False\n",
    "                for fl in model.v[ivl].comp:\n",
    "                    if fl not in L:\n",
    "                        continue\n",
    "                    ls = sorted(L[fl], key=lambda x:{ x[0] }, reverse=True)\n",
    "                    for f1 in ls:\n",
    "                        for f2 in ls:\n",
    "                            if f1[1]==f2[1]:\n",
    "                                continue\n",
    "                            if f2[0]<f1[0]:\n",
    "                                break\n",
    "                            if fl in signify1 and (f1[1],iv) in signify1[fl]:\n",
    "                                continue\n",
    "                            if fl in signify2 and (f2[1],iv) in signify2[fl]:\n",
    "                                continue\n",
    "\n",
    "                            canBeApplyed1, canBeApplyed2 = False, False\n",
    "                            for ov in model.o[fl].outs:\n",
    "                                if (ov[1][0]*f1[1] + ov[1][1]) == ivi1:\n",
    "                                    canBeApplyed1 = True\n",
    "                                if (ov[1][0]*f2[1] + ov[1][1]) == ivi2:\n",
    "                                    canBeApplyed2 = True\n",
    "                            if not (canBeApplyed1 and canBeApplyed2):\n",
    "                                continue\n",
    "\n",
    "                            if fl not in signify1:\n",
    "                                signify1[fl] = set()\n",
    "                            if fl not in signify2:\n",
    "                                signify2[fl] = set()\n",
    "                            signify1[fl].add((f1[1],iv))\n",
    "                            signify2[fl].add((f2[1],iv))\n",
    "                            varinterms = buildIdenticalTerms((fl,f1), (fl,f2), model, L)\n",
    "                            terms[var]+=varinterms\n",
    "                            signify1[fl].remove((f1[1],iv))\n",
    "                            signify2[fl].remove((f2[1],iv))\n",
    "                            if len(varinterms):\n",
    "                                found = True\n",
    "                if not found:\n",
    "                    divi = abs(ivi1-ivi2)\n",
    "                    terms[var].append(((ivl,(divi,ivi1)),(ivl,(divi,ivi2))))\n",
    "        combinations = list(itertools.product(*terms))\n",
    "        for comb in combinations:\n",
    "            t1 = Term((opl,(shift,i1)))\n",
    "            t2 = Term((opl,(shift,i2)))\n",
    "            t1.ins = [c[0] for c in comb]\n",
    "            t2.ins = [c[1] for c in comb]\n",
    "            res.append((t1,t2))\n",
    "            #print(f'res.append by {(t1,t2)}')\n",
    "\n",
    "    return res\n",
    "\n"
   ]
  },
  {
   "cell_type": "code",
   "execution_count": 16,
   "metadata": {},
   "outputs": [],
   "source": [
    "def checkSelfReplenish(ins:VariablesSet, outs:VariablesSet):\n",
    "    for v in ins:\n",
    "        if not outs.isinValue(v):\n",
    "            print(f'{v} is not selfReplenish')\n",
    "            return False\n",
    "    return True\n"
   ]
  },
  {
   "cell_type": "code",
   "execution_count": 17,
   "metadata": {},
   "outputs": [],
   "source": [
    "def removeLevels(term):\n",
    "    if isinstance(term, Term):\n",
    "        newterm=Term((term.top[0],term.top[1][0]))\n",
    "        for t in term.ins:\n",
    "                newterm.ins.append(removeLevels(t))\n",
    "        return newterm\n",
    "    return term"
   ]
  },
  {
   "cell_type": "code",
   "execution_count": 18,
   "metadata": {},
   "outputs": [],
   "source": [
    "def addTermOperations(ls : VariablesSet , term):\n",
    "    print(f'addTermOperations of {term}')\n",
    "    if isinstance(term, Term):\n",
    "        ls.add(term.top)\n",
    "        for t in term.ins:\n",
    "            addTermOperations(ls, t)\n",
    "    "
   ]
  },
  {
   "cell_type": "code",
   "execution_count": 19,
   "metadata": {},
   "outputs": [],
   "source": [
    "def canApply(op:MOperation, V: VariablesSet):\n",
    "    scope = copy.deepcopy(op.scope)\n",
    "    for iv in op.ins:\n",
    "        if isinstance(iv, tuple):\n",
    "            if iv[1][0]==0:\n",
    "                if not V.isin(iv):\n",
    "                    return VariablesSet()\n",
    "            elif iv[0] in V.m:\n",
    "                entrScope = VariablesSet()\n",
    "                for a,bb in V.m[iv[0]].items():\n",
    "                    if a==0:\n",
    "                        for b in bb:\n",
    "                            if (b-iv[1][1]) % iv[1][0] == 0:\n",
    "                                entrScope.add((op.label,(a, (b-iv[1][1])//iv[1][0])))\n",
    "                    else:\n",
    "                        d = gcd(a,iv[1][0])\n",
    "                        for b in bb:\n",
    "                            if (iv[1][1] - b) % d == 0:\n",
    "                                entrScope.addItem((op.label,apply_chinese_remainder(iv[1],(a,b))))\n",
    "                scope.intersection_update(entrScope)\n",
    "                if scope.empty():\n",
    "                    return scope\n",
    "            else:\n",
    "                return VariablesSet()\n",
    "        else:\n",
    "            if iv not in V.s:\n",
    "                return VariablesSet()\n",
    "    return scope"
   ]
  },
  {
   "cell_type": "code",
   "execution_count": 20,
   "metadata": {},
   "outputs": [],
   "source": [
    "def canApplyBackward(op, V: VariablesSet):\n",
    "    scope = VariablesSet()\n",
    "    if isinstance(op, MOperation):\n",
    "        for ov in op.outs:\n",
    "            if not isinstance(ov, tuple):\n",
    "                if V.isin(ov):\n",
    "                    return op.scope\n",
    "                continue\n",
    "            if ov[1][0]==0:\n",
    "                continue\n",
    "            if not ov[0] in V.m:\n",
    "                continue\n",
    "            for a,bb in V.m[ov[0]].items():\n",
    "                if a==0:\n",
    "                    for b in bb:\n",
    "                        if (b-ov[1][1]) % ov[1][0] == 0:\n",
    "                            scope.add((op.label,(a,(b-ov[1][1])//ov[1][0])))\n",
    "                else:\n",
    "                    for b in bb:\n",
    "                        d = gcd(a,ov[1][0])\n",
    "                        if (ov[1][1] - b) % d == 0:\n",
    "                            scope.addItem((op.label,apply_chinese_remainder(ov[1],(a,b))))\n",
    "        scope.intersection_update(op.scope)\n",
    "    else:\n",
    "        for ov in op.outs:\n",
    "            if not isinstance(ov, tuple):\n",
    "                if V.isin(ov):\n",
    "                    return VariablesSet([op.label])\n",
    "                continue\n",
    "            if not V.intersection(VariablesSet([(ov)])).empty():\n",
    "                return VariablesSet([op.label])\n",
    "    return scope"
   ]
  },
  {
   "cell_type": "code",
   "execution_count": 21,
   "metadata": {},
   "outputs": [],
   "source": [
    "def ascending(model : Model, V_in: VariablesSet):\n",
    "    level = 0\n",
    "    Vi = copy.deepcopy(V_in)\n",
    "    Fsum = VariablesSet()\n",
    "    Fi = VariablesSet()\n",
    "    Fprimei = VariablesSet()\n",
    "    for k,v in model.o.items():\n",
    "        if len(v.ins) == 0:\n",
    "            if isinstance(v,MOperation):\n",
    "                print('ERROR: massive operation has empty IN')\n",
    "            else:\n",
    "                for iv in v.outs:\n",
    "                    Vi.add(iv)\n",
    "                    print(f'{k} can be applied, {iv} was added to V_0')\n",
    "                    Fsum.add(k)\n",
    "    print('V_0 is', Vi)\n",
    "    Vnew = copy.deepcopy(Vi)\n",
    "    psiid = 0\n",
    "    while True:\n",
    "        Fi.clear()\n",
    "        Fprimei.clear()\n",
    "        ops = set()\n",
    "        for vl in Vnew.names():\n",
    "            ops.update(model.v[vl].entry)\n",
    "        print(f'for {str(Vnew)} ops are {ops}')\n",
    "    \n",
    "        for opl in ops:\n",
    "            op = model.o[opl]\n",
    "            if isinstance(op, MOperation):\n",
    "                res = canApply(op, Vi)\n",
    "                res.difference_update(Fsum)\n",
    "                if not res.empty():\n",
    "                    Fprimei.update(res)\n",
    "                    print(f'\\t{str(res)} added to F\\'_0')\n",
    "            else:\n",
    "                if Vi.isin(op.ins) and not Fsum.isin(opl):\n",
    "                    Fi.add(opl)\n",
    "                    print(f'\\t{opl} added to F_{level}')\n",
    "\n",
    "        # imitation algorithm\n",
    "        if not Fprimei.empty():\n",
    "            print('\\nimitation start')\n",
    "            newPsiOperations = []\n",
    "            Vprimei = copy.deepcopy(Vi)\n",
    "            Vprimenew = VariablesSet()\n",
    "            Fprimesum = VariablesSet()\n",
    "            primelevel = 0\n",
    "            L = dict()\n",
    "            print(f'\\tF\\'_{primelevel} is', Fprimei)\n",
    "\n",
    "            while True:\n",
    "                Vprimenew.clear()\n",
    "                toRemove = VariablesSet()\n",
    "                for op in Fprimei:\n",
    "                    if not isinstance(op, tuple):\n",
    "                        print(f'simple operations in Fprimei are ignored')\n",
    "                        continue\n",
    "                    if op[1][0] == 0:\n",
    "                        if toRemove.isin(op):\n",
    "                            continue\n",
    "                        if op[0] not in L:\n",
    "                            L[op[0]] = [(primelevel,op[1][1])]\n",
    "                        else:\n",
    "                            psicreated = False\n",
    "                            for opj in sorted(L[op[0]], key=lambda x: abs(op[1][1]-x[1]), reverse=False):\n",
    "                                if toRemove.isin((op[0], (0,opj))):\n",
    "                                    continue\n",
    "                                op1, op2 = ((op[0],opj),(op[0],(primelevel,op[1][1]))) if opj[1] < op[1][1] else ((op[0],(primelevel,op[1][1])),(op[0],opj))\n",
    "                                print(f'\\t\\ttrying to build terms for {op[0]}: {op1[1]} and {op2[1]}')\n",
    "                                terms = buildIdenticalTerms(op1, op2, model, L)\n",
    "                                step = op2[1][1]-op1[1][1]\n",
    "                                for t1,t2 in terms:\n",
    "                                    print(f'{t1} and {t2} are identical with step = {step}')\n",
    "                                    psi = t1\n",
    "                                    tvars = termVars(psi, model, 0)\n",
    "                                    inVars = termIns(psi, 0)\n",
    "                                    mvars = VariablesSet()\n",
    "                                    tins = termIns(psi, 1)\n",
    "                                    for vl in Vprimei:\n",
    "                                        if isinstance(vl,tuple) and vl[1][0]==0:\n",
    "                                            continue\n",
    "                                        mvars.addItem(vl)\n",
    "                                    tvars.update(mvars)\n",
    "                                    print(f'new psi is {psi}, ins[0]:{inVars}, ins[1]:{tins}, vars:{tvars} including massive(V\\'_{primelevel}):{mvars}')\n",
    "                                    print(f'checking {tins} in {tvars}')\n",
    "                                    sr = checkSelfReplenish(tins,tvars)\n",
    "                                    print(f'self-repleinsh: {sr}')\n",
    "                                    if sr:\n",
    "                                        psicreated = True\n",
    "                                        newVars = termOutput(psi, model, -1)\n",
    "                                        print(f'newVars: {newVars}')\n",
    "                                        newPsiOperations.append(SOperation(label='psi'+str(psiid),\n",
    "                                                                           ins=inVars,\n",
    "                                                                           outs=newVars,\n",
    "                                                                           psi=psi))\n",
    "                                        addTermOperations(toRemove, psi)\n",
    "                                        print(f'TOREMOVE is {toRemove}')\n",
    "                                        Vprimenew.update(newVars)\n",
    "                                        Fi.addItem('psi'+str(psiid))\n",
    "                                        psiid+=1\n",
    "                                        break\n",
    "                                if psicreated:\n",
    "                                    break\n",
    "                            if not psicreated:\n",
    "                                L[op[0]].append((primelevel,op[1][1]))\n",
    "                                print(f'\\t\\t{op[0]}[{(primelevel,op[1][1])}] added to L')\n",
    "                    else:\n",
    "                        psi=Term(op)\n",
    "                        for iv in model.o[op[0]].ins:\n",
    "                            if isinstance(iv, tuple):\n",
    "                                psi.ins.append((iv[0],(iv[1][0]*op[1][0],iv[1][1]+op[1][1]*iv[1][0])))\n",
    "                            else:\n",
    "                                psi.ins.append(iv)\n",
    "                        print(f'automatic psi is {psi}')\n",
    "                        newVars = termOutput(psi, model, -1)\n",
    "                        print(f'newVars: {newVars}')\n",
    "                        inVars = termIns(psi, -1)\n",
    "                        newPsiOperations.append(SOperation(label='psi'+str(psiid),\n",
    "                                                               ins=inVars,\n",
    "                                                               outs=newVars,\n",
    "                                                               psi=psi))\n",
    "                        toRemove.add(op)\n",
    "                        print(f'TOREMOVE is {toRemove}')\n",
    "                        Vprimenew.update(newVars)\n",
    "                        Fi.add('psi'+str(psiid))\n",
    "                        psiid+=1\n",
    "\n",
    "                Fprimesum.difference_update(toRemove)\n",
    "                Fprimei.difference_update(toRemove)\n",
    "                Fprimesum.update(Fprimei)\n",
    "                for n in toRemove.names():\n",
    "                    model.o[n].scope.difference_update(toRemove)\n",
    "                    if n in L:\n",
    "                        newLn=[]\n",
    "                        for Ll,Li in L[n]:\n",
    "                            if not toRemove.isin((n,(0,Li))):\n",
    "                                newLn.append((Ll,Li))\n",
    "                        L[n] = newLn\n",
    "\n",
    "                for op in Fprimei:\n",
    "                    for ov in model.o[op[0]].outs:\n",
    "                        if isinstance(ov,tuple):\n",
    "                                newvl=(ov[0], (op[1][0],ov[1][0]*op[1][1]+ov[1][1]))\n",
    "                                if not Vprimei.isin(newvl):\n",
    "                                    Vprimenew.add(newvl)\n",
    "                                    addedstr=(newvl[0]+'['+str(newvl[1])+']')\n",
    "                                    print(f'\\t\\t{addedstr} added to V\\'_{primelevel+1} because {op} is in F\\'_{primelevel}')\n",
    "                        else:\n",
    "                            Vprimenew.add(ov)\n",
    "                            print(f'\\t\\t{ov} added to V\\'_{primelevel+1} because {op} is in F\\'_{primelevel}')\n",
    "\n",
    "\n",
    "                print(f'\\tL_{primelevel} is', L)\n",
    "                primelevel+=1\n",
    "                Vprimei.update(Vprimenew)\n",
    "                print(f'\\tV\\'_{primelevel} is', Vprimei)\n",
    "                Fprimesum.update(Fprimei)\n",
    "                print(f'\\tF\\'sum_{primelevel} is', Fprimesum)\n",
    "                Fprimei.clear()\n",
    "                primeops = set()\n",
    "                for vl in Vprimenew.names():\n",
    "                    primeops.update(model.v[vl].entry)\n",
    "                print(f'new primeops are {primeops}')\n",
    "\n",
    "                for opl in primeops:\n",
    "                    op = model.o[opl]\n",
    "                    if isinstance(op, MOperation):\n",
    "                        res = canApply(op, Vprimei)\n",
    "                        if res.empty():\n",
    "                            continue\n",
    "                        res.difference_update(Fprimesum)\n",
    "                        if not res.empty():\n",
    "                            Fprimei.update(res)\n",
    "                            print(f'\\t\\t{str(res)} added to F\\'_{primelevel}')\n",
    "                    else:\n",
    "                        if Vi.isinVS(op.ins):\n",
    "                            Fi.add(opl)\n",
    "                            print(f'\\t\\t{opl} added to F\\'_{primelevel}')\n",
    "\n",
    "                if Fprimei.empty():\n",
    "                    print(f'final Primesum is {Fprimesum}')\n",
    "                    Fi.update(Fprimesum)\n",
    "                    break\n",
    "                if primelevel > 10:\n",
    "                    print(\"Reached max primelevel. Terminating...\")\n",
    "                    break\n",
    "            print('imitation end\\n')\n",
    "            print(f'new Psi operations: {newPsiOperations}')\n",
    "            model.o = dict(model.o, **{x.label: x for x in newPsiOperations})\n",
    "            for op in newPsiOperations:\n",
    "                for v in op.ins:\n",
    "                    model.v[v[0] if isinstance(v,tuple) else v].entry.append(op.label)\n",
    "                for v in op.outs:\n",
    "                    model.v[v[0] if isinstance(v,tuple) else v].comp.append(op.label)\n",
    "\n",
    "\n",
    "        \n",
    "        print(f'F_{level} is', Fi)\n",
    "        Fsum.update(Fi)\n",
    "        if Fi.empty():\n",
    "            break\n",
    "\n",
    "        Vnew.clear()\n",
    "        for op in Fi:\n",
    "            if isinstance(op, tuple):\n",
    "                for vl in model.o[op[0]].outs:\n",
    "                    if isinstance(vl, tuple):\n",
    "                        newv = (vl[0],(0,op[1][1]*vl[1][0]+vl[1][1]))\n",
    "                        if not Vi.isin(newv):\n",
    "                            Vnew.add(newv)\n",
    "                            print(f'\\t{newv} added to V_{level+1} because {op} is in F_{level}')\n",
    "                    else:\n",
    "                        if not Vi.isin(vl):\n",
    "                            Vnew.add(vl)\n",
    "                            print(f'\\t{vl} added to V_{level+1} because {op} is in F_{level}')\n",
    "            else:\n",
    "                for vl in model.o[op].outs:\n",
    "                    if not Vi.isin(vl):\n",
    "                        Vnew.add(vl)\n",
    "                        addedstr=(vl[0]+'['+str(vl[1])+']') if isinstance(vl,tuple) else vl\n",
    "                        print(f'\\t{addedstr} added to V_{level+1} because {op} is in F_{level}')\n",
    "        Vi.update(Vnew)\n",
    "        level+=1\n",
    "        print(f'V_{level} is', Vi)\n",
    "        #print(str(model))\n",
    "\n",
    "    return Fsum, Vi\n",
    "\n",
    "            \n",
    "            \n",
    "                    "
   ]
  },
  {
   "cell_type": "code",
   "execution_count": 22,
   "metadata": {},
   "outputs": [],
   "source": [
    "def descending(model:Model, W:VariablesSet, Fsum:VariablesSet):\n",
    "    print(\"descending :O\")\n",
    "    Gi = VariablesSet()\n",
    "    Hi = copy.deepcopy(W)\n",
    "    Gsum = VariablesSet()\n",
    "    Hsum = copy.deepcopy(W)\n",
    "    level = 1;\n",
    "    print(f'H_0 is', Hi)\n",
    "    while True:\n",
    "        Gi.clear()\n",
    "        for v in Hi.names():\n",
    "            for opl in model.v[v].comp:\n",
    "                op = model.o[opl]\n",
    "                res = canApplyBackward(op, Hi)\n",
    "                res.intersection_update(Fsum)\n",
    "                res.difference_update(Gsum)\n",
    "                Gi.update(res)\n",
    "\n",
    "        print(f'G_{level} is', Gi)\n",
    "        if Gi.empty():\n",
    "            break\n",
    "        Hi.clear()\n",
    "        for op in Gi:\n",
    "            if isinstance(op, tuple):\n",
    "                for v in model.o[op[0]].ins:\n",
    "                    if isinstance(v,tuple):\n",
    "                        if not Hsum.isinValue((v[0],(op[1][0]*v[1][0], v[1][0]*op[1][1]+v[1][1]))):\n",
    "                            Hi.add((v[0],(op[1][0]*v[1][0], v[1][0]*op[1][1]+v[1][1])))\n",
    "                    else:\n",
    "                        if not Hsum.isinValue(v):\n",
    "                            Hi.add(v)\n",
    "            else:\n",
    "                for v in model.o[op].ins:\n",
    "                    if not Hsum.isinValue(v):\n",
    "                        Hi.add(v)\n",
    "        Gsum.update(Gi)\n",
    "        Hsum.update(Hi)\n",
    "        print(f'H_{level} is', Hi)\n",
    "        level+=1\n",
    "\n",
    "    return Gsum, Hsum\n",
    "\n"
   ]
  },
  {
   "cell_type": "code",
   "execution_count": 23,
   "metadata": {},
   "outputs": [],
   "source": [
    "def filterModel(model:Model, operations:VariablesSet, variables:VariablesSet):\n",
    "    for v in list(model.v.keys()):\n",
    "        if v not in variables.names():\n",
    "            del model.v[v]\n",
    "        else:\n",
    "            newComp = []\n",
    "            for op in model.v[v].comp:\n",
    "                if op in operations.names():\n",
    "                    newComp.append(op)\n",
    "            newEntry = []\n",
    "            for op in model.v[v].entry:\n",
    "                if op in operations.names():\n",
    "                    newEntry.append(op)\n",
    "            model.v[v].comp = newComp\n",
    "            model.v[v].entry = newEntry\n",
    "\n",
    "    for o in list(model.o.keys()):\n",
    "        if o not in operations.names():\n",
    "            del model.o[o]\n",
    "        elif isinstance(model.o[o], MOperation):\n",
    "            model.o[o].scope.intersection_update(operations)"
   ]
  },
  {
   "cell_type": "code",
   "execution_count": 24,
   "metadata": {},
   "outputs": [],
   "source": [
    "def planCalc(model:Model, V:VariablesSet, W:VariablesSet):\n",
    "    tmodel = copy.copy(model)\n",
    "    Fsum, Vlast = ascending(tmodel, V)\n",
    "    if not Vlast.isinVS(W):\n",
    "        print('W cannot be calculated')\n",
    "        return None\n",
    "    Gsum, Hsum = descending(tmodel, W, Fsum)\n",
    "    print('Gsum is', Gsum)\n",
    "    print('Hsum is', Hsum)\n",
    "    filterModel(tmodel, operations=Gsum, variables=Hsum)\n",
    "    return tmodel"
   ]
  },
  {
   "cell_type": "code",
   "execution_count": 25,
   "metadata": {},
   "outputs": [
    {
     "name": "stdout",
     "output_type": "stream",
     "text": [
      "\n",
      "\n",
      "{'n': n(entry:['e'], comp:[]), 'x': x(entry:['f'], comp:['e', 'g']), 'y': y(entry:['g', 'a'], comp:['f']), 'z': z(entry:[], comp:['a'])}\n",
      "{'e': e(ins:['n'], outs:[('x', (0, 1))]), 'f': f[{f[i+0]}](ins:[('x', (1, 0))], outs:[('y', (1, 0))]), 'g': g[{g[i+0]}](ins:[('y', (1, 0))], outs:[('x', (1, 1))]), 'a': a[{a[i+0]}](ins:[('y', (1, 0))], outs:[('z', (1, 0))])}\n",
      "\n",
      "\n",
      "V_0 is {n}\n",
      "for {n} ops are {'e'}\n",
      "\te added to F_0\n",
      "F_0 is {e}\n",
      "\tx[(0, 1)] added to V_1 because e is in F_0\n",
      "V_1 is {n, x[1]}\n",
      "for {x[1]} ops are {'f'}\n",
      "\t{f[1]} added to F'_0\n",
      "\n",
      "imitation start\n",
      "\tF'_0 is {f[1]}\n",
      "\t\ty[(0, 1)] added to V'_1 because ('f', (0, 1)) is in F'_0\n",
      "\tL_0 is {'f': [(0, 1)]}\n",
      "\tV'_1 is {n, x[1], y[1]}\n",
      "\tF'sum_1 is {f[1]}\n",
      "new primeops are {'g', 'a'}\n",
      "\t\t{g[1]} added to F'_1\n",
      "\t\t{a[1]} added to F'_1\n",
      "\t\tx[(0, 2)] added to V'_2 because ('g', (0, 1)) is in F'_1\n",
      "\t\tz[(0, 1)] added to V'_2 because ('a', (0, 1)) is in F'_1\n",
      "\tL_1 is {'f': [(0, 1)], 'g': [(1, 1)], 'a': [(1, 1)]}\n",
      "\tV'_2 is {n, x[1,2], y[1], z[1]}\n",
      "\tF'sum_2 is {f[1], g[1], a[1]}\n",
      "new primeops are {'f'}\n",
      "\t\t{f[2]} added to F'_2\n",
      "\t\ttrying to build terms for f: (0, 1) and (2, 2)\n",
      "building terms for f: 0,1 and 2,2\n",
      "f[(1, 1)](x[(1, 1)]) and f[(1, 2)](x[(1, 2)]) are identical with step = 1\n",
      "new psi is f[(1, 1)](x[(1, 1)]), ins[0]:{x[1]}, ins[1]:{x[2]}, vars:{n, y[1], x[1]} including massive(V'_2):{n}\n",
      "checking {x[2]} in {n, y[1], x[1]}\n",
      "('x', (0, 2)) is not selfReplenish\n",
      "self-repleinsh: False\n",
      "\t\tf[(2, 2)] added to L\n",
      "\t\ty[(0, 2)] added to V'_3 because ('f', (0, 2)) is in F'_2\n",
      "\tL_2 is {'f': [(0, 1), (2, 2)], 'g': [(1, 1)], 'a': [(1, 1)]}\n",
      "\tV'_3 is {n, x[1,2], y[1,2], z[1]}\n",
      "\tF'sum_3 is {f[1,2], g[1], a[1]}\n",
      "new primeops are {'g', 'a'}\n",
      "\t\t{g[2]} added to F'_3\n",
      "\t\t{a[2]} added to F'_3\n",
      "\t\ttrying to build terms for g: (1, 1) and (3, 2)\n",
      "building terms for g: 1,1 and 3,2\n",
      "building terms for f: 0,1 and 2,2\n",
      "g[(1, 1)](f[(1, 1)](x[(1, 1)])) and g[(1, 2)](f[(1, 2)](x[(1, 2)])) are identical with step = 1\n",
      "new psi is g[(1, 1)](f[(1, 1)](x[(1, 1)])), ins[0]:{x[1]}, ins[1]:{x[2]}, vars:{n, x[1,2], y[1]} including massive(V'_3):{n}\n",
      "checking {x[2]} in {n, x[1,2], y[1]}\n",
      "self-repleinsh: True\n",
      "newVars: {x[i+2], y[i+1]}\n",
      "addTermOperations of g[(1, 1)](f[(1, 1)](x[(1, 1)]))\n",
      "addTermOperations of f[(1, 1)](x[(1, 1)])\n",
      "addTermOperations of ('x', (1, 1))\n",
      "TOREMOVE is {g[i+1], f[i+1]}\n",
      "\t\ttrying to build terms for a: (1, 1) and (3, 2)\n",
      "building terms for a: 1,1 and 3,2\n",
      "building terms for f: 0,1 and 2,2\n",
      "a[(1, 1)](f[(1, 1)](x[(1, 1)])) and a[(1, 2)](f[(1, 2)](x[(1, 2)])) are identical with step = 1\n",
      "new psi is a[(1, 1)](f[(1, 1)](x[(1, 1)])), ins[0]:{x[1]}, ins[1]:{x[2]}, vars:{n, z[1], y[1], x[1]} including massive(V'_3):{n}\n",
      "checking {x[2]} in {n, z[1], y[1], x[1]}\n",
      "('x', (0, 2)) is not selfReplenish\n",
      "self-repleinsh: False\n",
      "\t\ta[(3, 2)] added to L\n",
      "\t\tz[(0, 2)] added to V'_4 because ('a', (0, 2)) is in F'_3\n",
      "\tL_3 is {'f': [], 'g': [], 'a': [(1, 1), (3, 2)]}\n",
      "\tV'_4 is {n, x[i+1], y[i+1], z[1,2]}\n",
      "\tF'sum_4 is {a[1,2]}\n",
      "new primeops are {'g', 'a', 'f'}\n",
      "\t\t{a[i+3]} added to F'_4\n",
      "automatic psi is a[(1, 3)](y[(1, 3)])\n",
      "newVars: {z[i+3]}\n",
      "TOREMOVE is {a[i+3]}\n",
      "\tL_4 is {'f': [], 'g': [], 'a': [(1, 1), (3, 2)]}\n",
      "\tV'_5 is {n, x[i+1], y[i+1], z[i+1]}\n",
      "\tF'sum_5 is {a[1,2]}\n",
      "new primeops are set()\n",
      "final Primesum is {a[1,2]}\n",
      "imitation end\n",
      "\n",
      "new Psi operations: [psi0(psi: g[(1, 1)](f[(1, 1)](x[(1, 1)])))(ins:{x[1]}, outs:{x[i+2], y[i+1]}), psi1(psi: a[(1, 3)](y[(1, 3)]))(ins:{y[i+3]}, outs:{z[i+3]})]\n",
      "F_1 is {psi0, psi1, a[1,2]}\n",
      "\tz[(1, 3)] added to V_2 because psi1 is in F_1\n",
      "\tx[(1, 2)] added to V_2 because psi0 is in F_1\n",
      "\ty[(1, 1)] added to V_2 because psi0 is in F_1\n",
      "\t('z', (0, 1)) added to V_2 because ('a', (0, 1)) is in F_1\n",
      "\t('z', (0, 2)) added to V_2 because ('a', (0, 2)) is in F_1\n",
      "V_2 is {n, x[i+1], z[i+1], y[i+1]}\n",
      "for {z[i+1], x[i+2], y[i+1]} ops are {'g', 'a', 'psi1', 'psi0', 'f'}\n",
      "F_2 is {}\n",
      "descending :O\n",
      "H_0 is {x[20], z[i+1]}\n",
      "G_1 is {psi0, psi1, a[1,2]}\n",
      "H_1 is {y[i+1], x[1]}\n",
      "G_2 is {e}\n",
      "H_2 is {n}\n",
      "G_3 is {}\n",
      "Gsum is {e, psi0, psi1, a[1,2]}\n",
      "Hsum is {n, x[1,20], z[i+1], y[i+1]}\n",
      "\n",
      "\n",
      "{'n': n(entry:['e'], comp:[]), 'x': x(entry:['psi0'], comp:['e', 'psi0']), 'y': y(entry:['a', 'psi1'], comp:['psi0']), 'z': z(entry:[], comp:['a', 'psi1'])}\n",
      "{'e': e(ins:['n'], outs:[('x', (0, 1))]), 'a': a[{a[1,2]}](ins:[('y', (1, 0))], outs:[('z', (1, 0))]), 'psi0': psi0(psi: g[(1, 1)](f[(1, 1)](x[(1, 1)])))(ins:{x[1]}, outs:{x[i+2], y[i+1]}), 'psi1': psi1(psi: a[(1, 3)](y[(1, 3)]))(ins:{y[i+3]}, outs:{z[i+3]})}\n",
      "\n",
      "\n"
     ]
    }
   ],
   "source": [
    "modelOperations=[\n",
    "    SOperation('e', ['n'] , [('x',(0,1))]),\n",
    "    MOperation('f', [('x',(1,0))] , [('y',(1,0))], VariablesSet([('f',(1,0))])),\n",
    "    MOperation('g', [('y',(1,0))] , [('x',(1,1))], VariablesSet([('g',(1,0))])),\n",
    "    MOperation('a', [('y',(1,0))] , [('z',(1,0))], VariablesSet([('a',(1,0))]))\n",
    "    ]\n",
    "modelVariables=[\n",
    "    SVariable('n', ['e'], []),\n",
    "    MVariable('x', ['f'], ['e','g']),\n",
    "    MVariable('y', ['g','a'], ['f']),\n",
    "    MVariable('z', [], ['a'])\n",
    "]\n",
    "model = Model(v={x.label : x for x in modelVariables},\n",
    "              o={x.label : x for x in modelOperations})\n",
    "\n",
    "print('\\n\\n'+str(model)+'\\n\\n')\n",
    "print('\\n\\n'+str(planCalc(model,VariablesSet(['n']),VariablesSet([('x',(0,20)),('z',(1,1))])))+'\\n\\n')"
   ]
  },
  {
   "cell_type": "code",
   "execution_count": 26,
   "metadata": {},
   "outputs": [
    {
     "name": "stdout",
     "output_type": "stream",
     "text": [
      "\n",
      "\n",
      "{'n': n(entry:['initf1', 'initf2', 'inits', 'initfn', 'initsn'], comp:[]), 'fn': fn(entry:[], comp:['initfn']), 'sn': sn(entry:[], comp:['initsn']), 'f': f(entry:['next', 'sum', 'initfn'], comp:['initf1', 'initf2', 'next']), 's': s(entry:['sum', 'initsn'], comp:['inits', 'sum'])}\n",
      "{'initf1': initf1(ins:[], outs:[('f', (0, 1))]), 'initf2': initf2(ins:[], outs:[('f', (0, 2))]), 'inits': inits(ins:[], outs:[('s', (0, 0))]), 'next': next[{next[i+0]}](ins:[('f', (1, 1)), ('f', (1, 2))], outs:[('f', (1, 3))]), 'sum': sum[{sum[i+0]}](ins:[('f', (1, 1)), ('s', (1, 0))], outs:[('s', (1, 1))]), 'initfn': initfn(ins:['n', ('f', (1, 1))], outs:['fn']), 'initsn': initsn(ins:['n', ('s', (1, 0))], outs:['sn'])}\n",
      "\n",
      "\n",
      "initf1 can be applied, ('f', (0, 1)) was added to V_0\n",
      "initf2 can be applied, ('f', (0, 2)) was added to V_0\n",
      "inits can be applied, ('s', (0, 0)) was added to V_0\n",
      "V_0 is {n, f[1,2], s[0]}\n",
      "for {n, f[1,2], s[0]} ops are {'initf2', 'initf1', 'next', 'inits', 'initfn', 'initsn', 'sum'}\n",
      "\t{next[0]} added to F'_0\n",
      "\t{sum[0]} added to F'_0\n",
      "\n",
      "imitation start\n",
      "\tF'_0 is {next[0], sum[0]}\n",
      "\t\tf[(0, 3)] added to V'_1 because ('next', (0, 0)) is in F'_0\n",
      "\t\ts[(0, 1)] added to V'_1 because ('sum', (0, 0)) is in F'_0\n",
      "\tL_0 is {'next': [(0, 0)], 'sum': [(0, 0)]}\n",
      "\tV'_1 is {n, f[1,2,3], s[0,1]}\n",
      "\tF'sum_1 is {next[0], sum[0]}\n",
      "new primeops are {'initfn', 'next', 'initsn', 'sum'}\n",
      "\t\t{next[1]} added to F'_1\n",
      "\t\t{sum[1]} added to F'_1\n",
      "\t\ttrying to build terms for next: (0, 0) and (1, 1)\n",
      "building terms for next: 0,0 and 1,1\n",
      "next[(1, 0)](f[(1, 1)], f[(1, 2)]) and next[(1, 1)](f[(1, 2)], f[(1, 3)]) are identical with step = 1\n",
      "new psi is next[(1, 0)](f[(1, 1)], f[(1, 2)]), ins[0]:{f[1,2]}, ins[1]:{f[2,3]}, vars:{n, f[1,2,3]} including massive(V'_1):{n}\n",
      "checking {f[2,3]} in {n, f[1,2,3]}\n",
      "self-repleinsh: True\n",
      "newVars: {f[i+3]}\n",
      "addTermOperations of next[(1, 0)](f[(1, 1)], f[(1, 2)])\n",
      "addTermOperations of ('f', (1, 1))\n",
      "addTermOperations of ('f', (1, 2))\n",
      "TOREMOVE is {next[i+0]}\n",
      "\t\ttrying to build terms for sum: (0, 0) and (1, 1)\n",
      "building terms for sum: 0,0 and 1,1\n",
      "sum[(1, 0)](f[(1, 1)], s[(1, 0)]) and sum[(1, 1)](f[(1, 2)], s[(1, 1)]) are identical with step = 1\n",
      "new psi is sum[(1, 0)](f[(1, 1)], s[(1, 0)]), ins[0]:{f[1], s[0]}, ins[1]:{f[2], s[1]}, vars:{n, s[0,1], f[1]} including massive(V'_1):{n}\n",
      "checking {f[2], s[1]} in {n, s[0,1], f[1]}\n",
      "('f', (0, 2)) is not selfReplenish\n",
      "self-repleinsh: False\n",
      "\t\tsum[(1, 1)] added to L\n",
      "\t\ts[(0, 2)] added to V'_2 because ('sum', (0, 1)) is in F'_1\n",
      "\tL_1 is {'next': [], 'sum': [(0, 0), (1, 1)]}\n",
      "\tV'_2 is {n, f[i+1], s[0,1,2]}\n",
      "\tF'sum_2 is {sum[0,1]}\n",
      "new primeops are {'initfn', 'next', 'initsn', 'sum'}\n",
      "\t\t{sum[2]} added to F'_2\n",
      "\t\ttrying to build terms for sum: (1, 1) and (2, 2)\n",
      "building terms for sum: 1,1 and 2,2\n",
      "building terms for sum: 0,0 and 1,1\n",
      "sum[(1, 1)](f[(1, 2)], sum[(1, 0)](f[(1, 1)], s[(1, 0)])) and sum[(1, 2)](f[(1, 3)], sum[(1, 1)](f[(1, 2)], s[(1, 1)])) are identical with step = 1\n",
      "new psi is sum[(1, 1)](f[(1, 2)], sum[(1, 0)](f[(1, 1)], s[(1, 0)])), ins[0]:{f[1,2], s[0]}, ins[1]:{f[2,3], s[1]}, vars:{n, s[0,1,2], f[i+1]} including massive(V'_2):{n, f[i+1]}\n",
      "checking {f[2,3], s[1]} in {n, s[0,1,2], f[i+1]}\n",
      "self-repleinsh: True\n",
      "newVars: {s[i+1]}\n",
      "addTermOperations of sum[(1, 1)](f[(1, 2)], sum[(1, 0)](f[(1, 1)], s[(1, 0)]))\n",
      "addTermOperations of ('f', (1, 2))\n",
      "addTermOperations of sum[(1, 0)](f[(1, 1)], s[(1, 0)])\n",
      "addTermOperations of ('f', (1, 1))\n",
      "addTermOperations of ('s', (1, 0))\n",
      "TOREMOVE is {sum[i+0]}\n",
      "\tL_2 is {'next': [], 'sum': []}\n",
      "\tV'_3 is {n, f[i+1], s[i+0]}\n",
      "\tF'sum_3 is {}\n",
      "new primeops are {'sum', 'initsn'}\n",
      "final Primesum is {}\n",
      "imitation end\n",
      "\n",
      "new Psi operations: [psi0(psi: next[(1, 0)](f[(1, 1)], f[(1, 2)]))(ins:{f[1,2]}, outs:{f[i+3]}), psi1(psi: sum[(1, 1)](f[(1, 2)], sum[(1, 0)](f[(1, 1)], s[(1, 0)])))(ins:{f[1,2], s[0]}, outs:{s[i+1]})]\n",
      "F_0 is {psi0, psi1}\n",
      "\ts[(1, 1)] added to V_1 because psi1 is in F_0\n",
      "\tf[(1, 3)] added to V_1 because psi0 is in F_0\n",
      "V_1 is {n, f[i+1], s[i+0]}\n",
      "for {s[i+1], f[i+3]} ops are {'psi1', 'psi0', 'next', 'initfn', 'initsn', 'sum'}\n",
      "\tinitfn added to F_1\n",
      "\tinitsn added to F_1\n",
      "F_1 is {initfn, initsn}\n",
      "\tsn added to V_2 because initsn is in F_1\n",
      "\tfn added to V_2 because initfn is in F_1\n",
      "V_2 is {fn, n, sn, f[i+1], s[i+0]}\n",
      "for {fn, sn} ops are set()\n",
      "F_2 is {}\n",
      "descending :O\n",
      "H_0 is {fn, s[10]}\n",
      "G_1 is {initfn, psi1}\n",
      "H_1 is {n, f[i+1], s[0]}\n",
      "G_2 is {initf1, initf2, inits, psi0}\n",
      "H_2 is {}\n",
      "G_3 is {}\n",
      "Gsum is {initf1, initf2, initfn, inits, psi0, psi1}\n",
      "Hsum is {fn, n, s[0,10], f[i+1]}\n",
      "\n",
      "\n",
      "{'n': n(entry:['initf1', 'initf2', 'inits', 'initfn'], comp:[]), 'fn': fn(entry:[], comp:['initfn']), 'f': f(entry:['initfn', 'psi0', 'psi0', 'psi1', 'psi1'], comp:['initf1', 'initf2', 'psi0']), 's': s(entry:['psi1'], comp:['inits', 'psi1'])}\n",
      "{'initf1': initf1(ins:[], outs:[('f', (0, 1))]), 'initf2': initf2(ins:[], outs:[('f', (0, 2))]), 'inits': inits(ins:[], outs:[('s', (0, 0))]), 'initfn': initfn(ins:['n', ('f', (1, 1))], outs:['fn']), 'psi0': psi0(psi: next[(1, 0)](f[(1, 1)], f[(1, 2)]))(ins:{f[1,2]}, outs:{f[i+3]}), 'psi1': psi1(psi: sum[(1, 1)](f[(1, 2)], sum[(1, 0)](f[(1, 1)], s[(1, 0)])))(ins:{f[1,2], s[0]}, outs:{s[i+1]})}\n",
      "\n",
      "\n"
     ]
    }
   ],
   "source": [
    "modelOperations=[\n",
    "    SOperation('initf1', [] , [('f',(0,1))]),\n",
    "    SOperation('initf2', [] , [('f',(0,2))]),\n",
    "    SOperation('inits', [] , [('s',(0,0))]),\n",
    "    MOperation('next', [('f',(1,1)),('f',(1,2))], [('f',(1,3))], VariablesSet([('next',(1,0))])),\n",
    "    MOperation('sum', [('f',(1,1)),('s',(1,0))], [('s',(1,1))], VariablesSet([('sum',(1,0))])),\n",
    "    SOperation('initfn', ['n',('f',(1,1))], ['fn']),\n",
    "    SOperation('initsn', ['n',('s',(1,0))], ['sn'])\n",
    "    ]\n",
    "modelVariables=[\n",
    "    SVariable('n', ['initf1','initf2','inits','initfn','initsn'], []),\n",
    "    SVariable('fn', [], ['initfn']),\n",
    "    SVariable('sn', [], ['initsn']),\n",
    "    MVariable('f', ['next', 'sum','initfn'], ['initf1','initf2','next']),\n",
    "    MVariable('s', ['sum','initsn'],['inits','sum'])\n",
    "]\n",
    "fibmodel = Model(v={x.label : x for x in modelVariables},\n",
    "              o={x.label : x for x in modelOperations})\n",
    "print('\\n\\n'+str(fibmodel)+'\\n\\n')\n",
    "print('\\n\\n'+str(planCalc(fibmodel,VariablesSet(['n']),VariablesSet(['fn',('s',(0,10))])))+'\\n\\n')"
   ]
  },
  {
   "cell_type": "code",
   "execution_count": 28,
   "metadata": {},
   "outputs": [
    {
     "name": "stdout",
     "output_type": "stream",
     "text": [
      "\n",
      "\n",
      "{'n': n(entry:['e'], comp:[]), 'x': x(entry:['f', 'b'], comp:['e', 'g']), 'y': y(entry:['g', 'a'], comp:['f']), 'z': z(entry:[], comp:['a', 'b'])}\n",
      "{'e': e(ins:['n'], outs:[('x', (0, 1))]), 'f': f[{f[i+0]}](ins:[('x', (1, 0))], outs:[('y', (1, 1))]), 'g': g[{g[i+0]}](ins:[('y', (1, 0))], outs:[('x', (1, 1))]), 'a': a[{a[i+0]}](ins:[('y', (1, 0))], outs:[('z', (1, 0))]), 'b': b[{b[i+0]}](ins:[('x', (1, 0))], outs:[('z', (1, 0))])}\n",
      "\n",
      "\n",
      "V_0 is {n}\n",
      "for {n} ops are {'e'}\n",
      "\te added to F_0\n",
      "F_0 is {e}\n",
      "\tx[(0, 1)] added to V_1 because e is in F_0\n",
      "V_1 is {n, x[1]}\n",
      "for {x[1]} ops are {'b', 'f'}\n",
      "\t{b[1]} added to F'_0\n",
      "\t{f[1]} added to F'_0\n",
      "\n",
      "imitation start\n",
      "\tF'_0 is {b[1], f[1]}\n",
      "\t\tz[(0, 1)] added to V'_1 because ('b', (0, 1)) is in F'_0\n",
      "\t\ty[(0, 2)] added to V'_1 because ('f', (0, 1)) is in F'_0\n",
      "\tL_0 is {'b': [(0, 1)], 'f': [(0, 1)]}\n",
      "\tV'_1 is {n, x[1], z[1], y[2]}\n",
      "\tF'sum_1 is {b[1], f[1]}\n",
      "new primeops are {'g', 'a'}\n",
      "\t\t{g[2]} added to F'_1\n",
      "\t\t{a[2]} added to F'_1\n",
      "\t\tx[(0, 3)] added to V'_2 because ('g', (0, 2)) is in F'_1\n",
      "\t\tz[(0, 2)] added to V'_2 because ('a', (0, 2)) is in F'_1\n",
      "\tL_1 is {'b': [(0, 1)], 'f': [(0, 1)], 'g': [(1, 2)], 'a': [(1, 2)]}\n",
      "\tV'_2 is {n, x[1,3], z[1,2], y[2]}\n",
      "\tF'sum_2 is {b[1], f[1], g[2], a[2]}\n",
      "new primeops are {'b', 'f'}\n",
      "\t\t{b[3]} added to F'_2\n",
      "\t\t{f[3]} added to F'_2\n",
      "\t\ttrying to build terms for b: (0, 1) and (2, 3)\n",
      "building terms for b: 0,1 and 2,3\n",
      "b[(2, 1)](x[(2, 1)]) and b[(2, 3)](x[(2, 3)]) are identical with step = 2\n",
      "new psi is b[(2, 1)](x[(2, 1)]), ins[0]:{x[1]}, ins[1]:{x[3]}, vars:{n, z[1], x[1]} including massive(V'_2):{n}\n",
      "checking {x[3]} in {n, z[1], x[1]}\n",
      "('x', (0, 3)) is not selfReplenish\n",
      "self-repleinsh: False\n",
      "\t\tb[(2, 3)] added to L\n",
      "\t\ttrying to build terms for f: (0, 1) and (2, 3)\n",
      "building terms for f: 0,1 and 2,3\n",
      "f[(2, 1)](x[(2, 1)]) and f[(2, 3)](x[(2, 3)]) are identical with step = 2\n",
      "new psi is f[(2, 1)](x[(2, 1)]), ins[0]:{x[1]}, ins[1]:{x[3]}, vars:{n, y[2], x[1]} including massive(V'_2):{n}\n",
      "checking {x[3]} in {n, y[2], x[1]}\n",
      "('x', (0, 3)) is not selfReplenish\n",
      "self-repleinsh: False\n",
      "\t\tf[(2, 3)] added to L\n",
      "\t\tz[(0, 3)] added to V'_3 because ('b', (0, 3)) is in F'_2\n",
      "\t\ty[(0, 4)] added to V'_3 because ('f', (0, 3)) is in F'_2\n",
      "\tL_2 is {'b': [(0, 1), (2, 3)], 'f': [(0, 1), (2, 3)], 'g': [(1, 2)], 'a': [(1, 2)]}\n",
      "\tV'_3 is {n, x[1,3], z[1,2,3], y[2,4]}\n",
      "\tF'sum_3 is {b[1,3], f[1,3], g[2], a[2]}\n",
      "new primeops are {'g', 'a'}\n",
      "\t\t{g[4]} added to F'_3\n",
      "\t\t{a[4]} added to F'_3\n",
      "\t\ttrying to build terms for g: (1, 2) and (3, 4)\n",
      "building terms for g: 1,2 and 3,4\n",
      "building terms for f: 0,1 and 2,3\n",
      "g[(2, 2)](f[(2, 1)](x[(2, 1)])) and g[(2, 4)](f[(2, 3)](x[(2, 3)])) are identical with step = 2\n",
      "new psi is g[(2, 2)](f[(2, 1)](x[(2, 1)])), ins[0]:{x[1]}, ins[1]:{x[3]}, vars:{n, x[1,3], y[2]} including massive(V'_3):{n}\n",
      "checking {x[3]} in {n, x[1,3], y[2]}\n",
      "self-repleinsh: True\n",
      "newVars: {x[2i+3], y[2i+2]}\n",
      "addTermOperations of g[(2, 2)](f[(2, 1)](x[(2, 1)]))\n",
      "addTermOperations of f[(2, 1)](x[(2, 1)])\n",
      "addTermOperations of ('x', (2, 1))\n",
      "TOREMOVE is {g[2i+2], f[2i+1]}\n",
      "\t\ttrying to build terms for a: (1, 2) and (3, 4)\n",
      "building terms for a: 1,2 and 3,4\n",
      "building terms for f: 0,1 and 2,3\n",
      "a[(2, 2)](f[(2, 1)](x[(2, 1)])) and a[(2, 4)](f[(2, 3)](x[(2, 3)])) are identical with step = 2\n",
      "new psi is a[(2, 2)](f[(2, 1)](x[(2, 1)])), ins[0]:{x[1]}, ins[1]:{x[3]}, vars:{n, z[2], y[2], x[1]} including massive(V'_3):{n}\n",
      "checking {x[3]} in {n, z[2], y[2], x[1]}\n",
      "('x', (0, 3)) is not selfReplenish\n",
      "self-repleinsh: False\n",
      "\t\ta[(3, 4)] added to L\n",
      "\t\tz[(0, 4)] added to V'_4 because ('a', (0, 4)) is in F'_3\n",
      "\tL_3 is {'b': [(0, 1), (2, 3)], 'f': [], 'g': [], 'a': [(1, 2), (3, 4)]}\n",
      "\tV'_4 is {n, x[2i+1], z[1,2,3,4], y[2i+2]}\n",
      "\tF'sum_4 is {b[1,3], a[2,4]}\n",
      "new primeops are {'g', 'a', 'b', 'f'}\n",
      "\t\t{a[2i+6]} added to F'_4\n",
      "\t\t{b[2i+5]} added to F'_4\n",
      "automatic psi is a[(2, 6)](y[(2, 6)])\n",
      "newVars: {z[2i+6]}\n",
      "TOREMOVE is {a[2i+6]}\n",
      "automatic psi is b[(2, 5)](x[(2, 5)])\n",
      "newVars: {z[2i+5]}\n",
      "TOREMOVE is {a[2i+6], b[2i+5]}\n",
      "\tL_4 is {'b': [(0, 1), (2, 3)], 'f': [], 'g': [], 'a': [(1, 2), (3, 4)]}\n",
      "\tV'_5 is {n, x[2i+1], z[i+1], y[2i+2]}\n",
      "\tF'sum_5 is {b[1,3], a[2,4]}\n",
      "new primeops are set()\n",
      "final Primesum is {b[1,3], a[2,4]}\n",
      "imitation end\n",
      "\n",
      "new Psi operations: [psi0(psi: g[(2, 2)](f[(2, 1)](x[(2, 1)])))(ins:{x[1]}, outs:{x[2i+3], y[2i+2]}), psi1(psi: a[(2, 6)](y[(2, 6)]))(ins:{y[2i+6]}, outs:{z[2i+6]}), psi2(psi: b[(2, 5)](x[(2, 5)]))(ins:{x[2i+5]}, outs:{z[2i+5]})]\n",
      "F_1 is {psi0, psi1, psi2, b[1,3], a[2,4]}\n",
      "\tz[(2, 6)] added to V_2 because psi1 is in F_1\n",
      "\tx[(2, 3)] added to V_2 because psi0 is in F_1\n",
      "\ty[(2, 2)] added to V_2 because psi0 is in F_1\n",
      "\tz[(2, 5)] added to V_2 because psi2 is in F_1\n",
      "\t('z', (0, 1)) added to V_2 because ('b', (0, 1)) is in F_1\n",
      "\t('z', (0, 3)) added to V_2 because ('b', (0, 3)) is in F_1\n",
      "\t('z', (0, 2)) added to V_2 because ('a', (0, 2)) is in F_1\n",
      "\t('z', (0, 4)) added to V_2 because ('a', (0, 4)) is in F_1\n",
      "V_2 is {n, x[2i+1], z[i+1], y[2i+2]}\n",
      "for {z[i+1], x[2i+3], y[2i+2]} ops are {'g', 'a', 'psi1', 'psi0', 'psi2', 'b', 'f'}\n",
      "F_2 is {}\n",
      "descending :O\n",
      "H_0 is {x[11], z[2i+10]}\n",
      "G_1 is {psi0, psi1}\n",
      "H_1 is {y[2i+6], x[1]}\n",
      "G_2 is {e}\n",
      "H_2 is {n}\n",
      "G_3 is {}\n",
      "Gsum is {e, psi0, psi1}\n",
      "Hsum is {n, x[1,11], z[2i+10], y[2i+6]}\n",
      "\n",
      "\n",
      "{'n': n(entry:['e'], comp:[]), 'x': x(entry:['psi0'], comp:['e', 'psi0']), 'y': y(entry:['psi1'], comp:['psi0']), 'z': z(entry:[], comp:['psi1'])}\n",
      "{'e': e(ins:['n'], outs:[('x', (0, 1))]), 'psi0': psi0(psi: g[(2, 2)](f[(2, 1)](x[(2, 1)])))(ins:{x[1]}, outs:{x[2i+3], y[2i+2]}), 'psi1': psi1(psi: a[(2, 6)](y[(2, 6)]))(ins:{y[2i+6]}, outs:{z[2i+6]})}\n",
      "\n",
      "\n"
     ]
    }
   ],
   "source": [
    "modelOperations=[\n",
    "    SOperation('e', ['n'] , [('x',(0,1))]),\n",
    "    MOperation('f', [('x',(1,0))] , [('y',(1,1))], VariablesSet([('f',(1,0))])),\n",
    "    MOperation('g', [('y',(1,0))] , [('x',(1,1))], VariablesSet([('g',(1,0))])),\n",
    "    MOperation('a', [('y',(1,0))] , [('z',(1,0))], VariablesSet([('a',(1,0))])),\n",
    "    MOperation('b', [('x',(1,0))] , [('z',(1,0))], VariablesSet([('b',(1,0))]))\n",
    "    ]\n",
    "modelVariables=[\n",
    "    SVariable('n', ['e'], []),\n",
    "    MVariable('x', ['f','b'], ['e','g']),\n",
    "    MVariable('y', ['g','a'], ['f']),\n",
    "    MVariable('z', [], ['a','b'])\n",
    "]\n",
    "complicatedmodel = Model(v={x.label : x for x in modelVariables},\n",
    "              o={x.label : x for x in modelOperations})\n",
    "\n",
    "print('\\n\\n'+str(complicatedmodel)+'\\n\\n')\n",
    "print('\\n\\n'+str(planCalc(complicatedmodel,VariablesSet(['n']),VariablesSet([('x',(0,11)),('z',(2,10))])))+'\\n\\n')"
   ]
  },
  {
   "cell_type": "code",
   "execution_count": 62,
   "metadata": {},
   "outputs": [
    {
     "data": {
      "text/plain": [
       "{x[21i+10], x[84i+7], x[84i+19], x[84i+43], x[84i+55], x[84i+67], x[84i+79]}"
      ]
     },
     "execution_count": 62,
     "metadata": {},
     "output_type": "execute_result"
    }
   ],
   "source": [
    "ass = VariablesSet()\n",
    "ass.add(('x',(21,10)))\n",
    "ass.add(('x',(12,7)))\n",
    "ass"
   ]
  },
  {
   "cell_type": "code",
   "execution_count": 9,
   "metadata": {},
   "outputs": [
    {
     "data": {
      "text/plain": [
       "{x[21i+10], x[84i+7], x[84i+19], x[84i+43], x[84i+55], x[84i+67], x[84i+79], x[-53]}"
      ]
     },
     "execution_count": 9,
     "metadata": {},
     "output_type": "execute_result"
    }
   ],
   "source": [
    "ass.add(('x',(84,-53)))\n",
    "ass"
   ]
  },
  {
   "cell_type": "code",
   "execution_count": 10,
   "metadata": {},
   "outputs": [
    {
     "data": {
      "text/plain": [
       "{x[8i+1]}"
      ]
     },
     "execution_count": 10,
     "metadata": {},
     "output_type": "execute_result"
    }
   ],
   "source": [
    "ass = VariablesSet()\n",
    "ass.add(('x',(8,1)))\n",
    "ass"
   ]
  },
  {
   "cell_type": "code",
   "execution_count": 11,
   "metadata": {},
   "outputs": [
    {
     "data": {
      "text/plain": [
       "{x[4i+1]}"
      ]
     },
     "execution_count": 11,
     "metadata": {},
     "output_type": "execute_result"
    }
   ],
   "source": [
    "ass.add(('x',(8,5)))\n",
    "ass"
   ]
  },
  {
   "cell_type": "code",
   "execution_count": 12,
   "metadata": {},
   "outputs": [
    {
     "data": {
      "text/plain": [
       "{x[2i+5], x[1]}"
      ]
     },
     "execution_count": 12,
     "metadata": {},
     "output_type": "execute_result"
    }
   ],
   "source": [
    "ass.add(('x',(2,7)))\n",
    "ass"
   ]
  },
  {
   "cell_type": "code",
   "execution_count": 13,
   "metadata": {},
   "outputs": [
    {
     "data": {
      "text/plain": [
       "{x[2i+5], x[1], x[4i+16]}"
      ]
     },
     "execution_count": 13,
     "metadata": {},
     "output_type": "execute_result"
    }
   ],
   "source": [
    "ass.add(('x',(4,16)))\n",
    "ass"
   ]
  },
  {
   "cell_type": "code",
   "execution_count": 14,
   "metadata": {},
   "outputs": [
    {
     "data": {
      "text/plain": [
       "{x[1,5,7,9,11,13], x[i+15]}"
      ]
     },
     "execution_count": 14,
     "metadata": {},
     "output_type": "execute_result"
    }
   ],
   "source": [
    "ass.add(('x',(4,18)))\n",
    "ass"
   ]
  },
  {
   "cell_type": "code",
   "execution_count": 15,
   "metadata": {},
   "outputs": [
    {
     "data": {
      "text/plain": [
       "{x[1,5,7,9,11], x[i+13]}"
      ]
     },
     "execution_count": 15,
     "metadata": {},
     "output_type": "execute_result"
    }
   ],
   "source": [
    "ass.add(('x',(100,14)))\n",
    "ass"
   ]
  },
  {
   "cell_type": "code",
   "execution_count": 16,
   "metadata": {},
   "outputs": [
    {
     "data": {
      "text/plain": [
       "{x[i+10]}"
      ]
     },
     "execution_count": 16,
     "metadata": {},
     "output_type": "execute_result"
    }
   ],
   "source": [
    "ass = VariablesSet([('x',(0,10))])\n",
    "ass.add(('x',(1,10)))\n",
    "ass"
   ]
  },
  {
   "cell_type": "code",
   "execution_count": 17,
   "metadata": {},
   "outputs": [
    {
     "data": {
      "text/plain": [
       "{x[2i+11]}"
      ]
     },
     "execution_count": 17,
     "metadata": {},
     "output_type": "execute_result"
    }
   ],
   "source": [
    "ass = VariablesSet([('x',(2,11))])\n",
    "ass"
   ]
  },
  {
   "cell_type": "code",
   "execution_count": 18,
   "metadata": {},
   "outputs": [
    {
     "data": {
      "text/plain": [
       "{x[2i+9], x[14i+16]}"
      ]
     },
     "execution_count": 18,
     "metadata": {},
     "output_type": "execute_result"
    }
   ],
   "source": [
    "ass.add(('x',(7,9)))\n",
    "ass"
   ]
  },
  {
   "cell_type": "code",
   "execution_count": 19,
   "metadata": {},
   "outputs": [
    {
     "data": {
      "text/plain": [
       "{x[i+10]}"
      ]
     },
     "execution_count": 19,
     "metadata": {},
     "output_type": "execute_result"
    }
   ],
   "source": [
    "ass = VariablesSet([('x',(1,10))])\n",
    "ass"
   ]
  },
  {
   "cell_type": "code",
   "execution_count": 20,
   "metadata": {},
   "outputs": [
    {
     "data": {
      "text/plain": [
       "{x[i+12], x[10]}"
      ]
     },
     "execution_count": 20,
     "metadata": {},
     "output_type": "execute_result"
    }
   ],
   "source": [
    "ass.removeItem(('x',(0,11)))\n",
    "ass"
   ]
  },
  {
   "cell_type": "code",
   "execution_count": 21,
   "metadata": {},
   "outputs": [
    {
     "data": {
      "text/plain": [
       "{}"
      ]
     },
     "execution_count": 21,
     "metadata": {},
     "output_type": "execute_result"
    }
   ],
   "source": [
    "ass.removeItem(('x',(1,1)))\n",
    "ass"
   ]
  },
  {
   "cell_type": "code",
   "execution_count": 22,
   "metadata": {},
   "outputs": [
    {
     "data": {
      "text/plain": [
       "{x[i+10]}"
      ]
     },
     "execution_count": 22,
     "metadata": {},
     "output_type": "execute_result"
    }
   ],
   "source": [
    "ass = VariablesSet([('x',(1,10))])\n",
    "ass"
   ]
  },
  {
   "cell_type": "code",
   "execution_count": 23,
   "metadata": {},
   "outputs": [
    {
     "data": {
      "text/plain": [
       "{x[2i+11]}"
      ]
     },
     "execution_count": 23,
     "metadata": {},
     "output_type": "execute_result"
    }
   ],
   "source": [
    "ass.removeItem(('x',(2,0)))\n",
    "ass"
   ]
  },
  {
   "cell_type": "code",
   "execution_count": 24,
   "metadata": {},
   "outputs": [
    {
     "data": {
      "text/plain": [
       "{x[2i+10]}"
      ]
     },
     "execution_count": 24,
     "metadata": {},
     "output_type": "execute_result"
    }
   ],
   "source": [
    "ass = VariablesSet([('x',(2,10))])\n",
    "ass"
   ]
  },
  {
   "cell_type": "code",
   "execution_count": 25,
   "metadata": {},
   "outputs": [
    {
     "data": {
      "text/plain": [
       "{x[6i+10], x[6i+12], x[14]}"
      ]
     },
     "execution_count": 25,
     "metadata": {},
     "output_type": "execute_result"
    }
   ],
   "source": [
    "ass.removeItem(('x',(3,20)))\n",
    "ass"
   ]
  },
  {
   "cell_type": "code",
   "execution_count": 26,
   "metadata": {},
   "outputs": [
    {
     "data": {
      "text/plain": [
       "{x[42i+10], x[84i+73]}"
      ]
     },
     "execution_count": 26,
     "metadata": {},
     "output_type": "execute_result"
    }
   ],
   "source": [
    "ass = VariablesSet()\n",
    "ass.add(('x',(21,10)))\n",
    "ass.removeItem(('x',(12,7)))\n",
    "ass"
   ]
  },
  {
   "cell_type": "code",
   "execution_count": 27,
   "metadata": {},
   "outputs": [
    {
     "data": {
      "text/plain": [
       "{x[3i+10]}"
      ]
     },
     "execution_count": 27,
     "metadata": {},
     "output_type": "execute_result"
    }
   ],
   "source": [
    "ass = VariablesSet()\n",
    "ass.add(('x',(3,10)))\n",
    "ass"
   ]
  },
  {
   "cell_type": "code",
   "execution_count": 28,
   "metadata": {},
   "outputs": [
    {
     "data": {
      "text/plain": [
       "{x[3i+8], x[3i+10]}"
      ]
     },
     "execution_count": 28,
     "metadata": {},
     "output_type": "execute_result"
    }
   ],
   "source": [
    "ass.add(('x',(3,8)))\n",
    "ass"
   ]
  },
  {
   "cell_type": "code",
   "execution_count": 29,
   "metadata": {},
   "outputs": [
    {
     "data": {
      "text/plain": [
       "{x[3i+10], x[8]}"
      ]
     },
     "execution_count": 29,
     "metadata": {},
     "output_type": "execute_result"
    }
   ],
   "source": [
    "ass.removeItem(('x',(3,11)))\n",
    "ass"
   ]
  },
  {
   "cell_type": "code",
   "execution_count": 30,
   "metadata": {},
   "outputs": [
    {
     "data": {
      "text/plain": [
       "{x[8,10]}"
      ]
     },
     "execution_count": 30,
     "metadata": {},
     "output_type": "execute_result"
    }
   ],
   "source": [
    "ass.removeItem(('x',(1,11)))\n",
    "ass"
   ]
  },
  {
   "cell_type": "code",
   "execution_count": 31,
   "metadata": {},
   "outputs": [
    {
     "data": {
      "text/plain": [
       "{x[8]}"
      ]
     },
     "execution_count": 31,
     "metadata": {},
     "output_type": "execute_result"
    }
   ],
   "source": [
    "ass.removeItem(('x',(10,0)))\n",
    "ass"
   ]
  },
  {
   "cell_type": "code",
   "execution_count": 32,
   "metadata": {},
   "outputs": [
    {
     "data": {
      "text/plain": [
       "{x[6i+23]}"
      ]
     },
     "execution_count": 32,
     "metadata": {},
     "output_type": "execute_result"
    }
   ],
   "source": [
    "int1 = VariablesSet([('x',(2,11))])\n",
    "int1.intersection(VariablesSet([('x',(3,20))]))"
   ]
  },
  {
   "cell_type": "code",
   "execution_count": 33,
   "metadata": {},
   "outputs": [
    {
     "data": {
      "text/plain": [
       "{x[2i+22]}"
      ]
     },
     "execution_count": 33,
     "metadata": {},
     "output_type": "execute_result"
    }
   ],
   "source": [
    "int1 = VariablesSet([('x',(2,22))])\n",
    "int1.intersection(VariablesSet([('x',(2,20))]))"
   ]
  },
  {
   "cell_type": "code",
   "execution_count": 34,
   "metadata": {},
   "outputs": [
    {
     "name": "stdout",
     "output_type": "stream",
     "text": [
      "(119, 112)\n"
     ]
    }
   ],
   "source": [
    "print(custom_chinese_remainder((7, 0), (17, 10)))"
   ]
  },
  {
   "cell_type": "code",
   "execution_count": 35,
   "metadata": {},
   "outputs": [
    {
     "name": "stdout",
     "output_type": "stream",
     "text": [
      "(2, 10)\n"
     ]
    }
   ],
   "source": [
    "print(custom_chinese_remainder((2, 10), (2, 8)))"
   ]
  },
  {
   "cell_type": "code",
   "execution_count": 36,
   "metadata": {},
   "outputs": [
    {
     "name": "stdout",
     "output_type": "stream",
     "text": [
      "(84, 31)\n"
     ]
    }
   ],
   "source": [
    "print(custom_chinese_remainder((12, 7), (21, 10)))"
   ]
  },
  {
   "cell_type": "code",
   "execution_count": 56,
   "metadata": {},
   "outputs": [
    {
     "name": "stdout",
     "output_type": "stream",
     "text": [
      "(3, 7)\n"
     ]
    }
   ],
   "source": [
    "print(custom_chinese_remainder((3, 1), (3, 7)))"
   ]
  },
  {
   "cell_type": "code",
   "execution_count": 57,
   "metadata": {},
   "outputs": [
    {
     "name": "stdout",
     "output_type": "stream",
     "text": [
      "True\n"
     ]
    }
   ],
   "source": [
    "ass3 = VariablesSet([('x',(2,24)),('x',(0,8)),('x',(0,16))])\n",
    "print(ass3.isinValue(('x',(8,8))))"
   ]
  },
  {
   "cell_type": "code",
   "execution_count": 29,
   "metadata": {},
   "outputs": [
    {
     "data": {
      "text/plain": [
       "(3, 2)"
      ]
     },
     "execution_count": 29,
     "metadata": {},
     "output_type": "execute_result"
    }
   ],
   "source": [
    "apply_chinese_remainder((2,1),(3,2))"
   ]
  },
  {
   "cell_type": "code",
   "execution_count": 31,
   "metadata": {},
   "outputs": [
    {
     "data": {
      "text/plain": [
       "(3, 0)"
      ]
     },
     "execution_count": 31,
     "metadata": {},
     "output_type": "execute_result"
    }
   ],
   "source": [
    "apply_chinese_remainder((2,1),(3,1))"
   ]
  }
 ],
 "metadata": {
  "kernelspec": {
   "display_name": "Python 3",
   "language": "python",
   "name": "python3"
  },
  "language_info": {
   "codemirror_mode": {
    "name": "ipython",
    "version": 3
   },
   "file_extension": ".py",
   "mimetype": "text/x-python",
   "name": "python",
   "nbconvert_exporter": "python",
   "pygments_lexer": "ipython3",
   "version": "3.10.8"
  },
  "orig_nbformat": 4
 },
 "nbformat": 4,
 "nbformat_minor": 2
}
